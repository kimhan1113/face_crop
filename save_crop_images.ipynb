{
 "cells": [
  {
   "cell_type": "code",
   "execution_count": 1,
   "metadata": {},
   "outputs": [],
   "source": [
    "import dlib\n",
    "import matplotlib.pyplot as plt\n",
    "import numpy as np\n",
    "from imutils import paths\n",
    "import os"
   ]
  },
  {
   "cell_type": "code",
   "execution_count": 2,
   "metadata": {},
   "outputs": [
    {
     "name": "stdout",
     "output_type": "stream",
     "text": [
      "['img\\\\13.jpg', 'img\\\\14.jpg', 'img\\\\16.jpg', 'img\\\\4.jpg', 'img\\\\han.jpg']\n"
     ]
    }
   ],
   "source": [
    "os.makedirs('face_crop', exist_ok=True)\n",
    "save_folder = 'face_crop'\n",
    "img_list =  [img for img in list(paths.list_images('img')) if not os.path.basename(img).startswith('qr')]\n",
    "print(img_list)"
   ]
  },
  {
   "cell_type": "code",
   "execution_count": 3,
   "metadata": {},
   "outputs": [],
   "source": [
    "detector = dlib.get_frontal_face_detector()\n",
    "sp = dlib.shape_predictor('models/shape_predictor_5_face_landmarks.dat')"
   ]
  },
  {
   "cell_type": "code",
   "execution_count": 12,
   "metadata": {},
   "outputs": [],
   "source": [
    "def face_crop(img_path):  \n",
    "    count = 1\n",
    "    img = dlib.load_rgb_image(img_path)   \n",
    "    dets = detector(img, 1)   \n",
    "    objs = dlib.full_object_detections()\n",
    "\n",
    "    for detection in dets:\n",
    "        s = sp(img, detection)\n",
    "        objs.append(s)\n",
    "        \n",
    "    faces = dlib.get_face_chips(img, objs, size=256, padding=0.3)\n",
    "    img_name = os.path.splitext(os.path.basename(img_path))[0]\n",
    "    for i, face in enumerate(faces):\n",
    "        plt.imsave(os.path.join(save_folder, img_name + '_' + str(count)+'.jpg'), face)\n",
    "        count += 1"
   ]
  },
  {
   "cell_type": "code",
   "execution_count": 15,
   "metadata": {
    "scrolled": true
   },
   "outputs": [
    {
     "name": "stdout",
     "output_type": "stream",
     "text": [
      "16.jpg-> 인식실패\n",
      "done\n"
     ]
    }
   ],
   "source": [
    "for img in img_list:\n",
    "    try:\n",
    "        face_crop(img)\n",
    "    except:\n",
    "        # 인식 못하는 경우가 은근히 자주 발생하여 skip하도록 함\n",
    "        print(f'{os.path.basename(img)}-> 인식실패')\n",
    "        continue\n",
    "print('done')"
   ]
  },
  {
   "cell_type": "code",
   "execution_count": null,
   "metadata": {},
   "outputs": [],
   "source": []
  },
  {
   "cell_type": "code",
   "execution_count": null,
   "metadata": {},
   "outputs": [],
   "source": []
  },
  {
   "cell_type": "code",
   "execution_count": null,
   "metadata": {},
   "outputs": [],
   "source": []
  },
  {
   "cell_type": "code",
   "execution_count": null,
   "metadata": {},
   "outputs": [],
   "source": []
  },
  {
   "cell_type": "code",
   "execution_count": null,
   "metadata": {},
   "outputs": [],
   "source": []
  },
  {
   "cell_type": "code",
   "execution_count": null,
   "metadata": {},
   "outputs": [],
   "source": []
  },
  {
   "cell_type": "code",
   "execution_count": null,
   "metadata": {},
   "outputs": [],
   "source": []
  }
 ],
 "metadata": {
  "kernelspec": {
   "display_name": "Python 3",
   "language": "python",
   "name": "python3"
  },
  "language_info": {
   "codemirror_mode": {
    "name": "ipython",
    "version": 3
   },
   "file_extension": ".py",
   "mimetype": "text/x-python",
   "name": "python",
   "nbconvert_exporter": "python",
   "pygments_lexer": "ipython3",
   "version": "3.7.4"
  }
 },
 "nbformat": 4,
 "nbformat_minor": 2
}
